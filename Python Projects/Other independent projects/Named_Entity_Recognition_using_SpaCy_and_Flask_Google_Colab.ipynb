{
  "nbformat": 4,
  "nbformat_minor": 0,
  "metadata": {
    "colab": {
      "name": "Named Entity Recognition using SpaCy and Flask.ipynb",
      "provenance": [],
      "collapsed_sections": [],
      "toc_visible": true
    },
    "kernelspec": {
      "name": "python3",
      "display_name": "Python 3"
    },
    "language_info": {
      "name": "python"
    }
  },
  "cells": [
    {
      "cell_type": "markdown",
      "metadata": {
        "id": "oHM2PWoE_Cd9"
      },
      "source": [
        "## Named Entity Recognition using SpaCy and Flask\n",
        "\n",
        "In this Jupyter Notebook I develop a mini-app that performs Named Entity Recognition (NER). The code consists of two parts:\n",
        "* The app in Flask\n",
        "* The Python code that performs NER within the app using SpaCy.\n",
        "\n",
        "---\n",
        "\n"
      ]
    },
    {
      "cell_type": "markdown",
      "metadata": {
        "id": "eJ8dgJrvAXuc"
      },
      "source": [
        "First of all the basic requirement is to use the following packages\n",
        "\n",
        "* Flask\n",
        "* Spacy\n",
        "* Flask-Markdown\n",
        "\n",
        "https://blog.jcharistech.com/2019/12/14/how-to-use-displacy-in-flask-for-named-entity-recognition/"
      ]
    },
    {
      "cell_type": "code",
      "metadata": {
        "colab": {
          "base_uri": "https://localhost:8080/"
        },
        "id": "w8TTY2YUA0mC",
        "outputId": "7c876ab5-ed24-4201-811e-aa0cffb1dbdb"
      },
      "source": [
        "!pip install Flask-Markdown\n",
        "!pip install gevent"
      ],
      "execution_count": 1,
      "outputs": [
        {
          "output_type": "stream",
          "text": [
            "Collecting Flask-Markdown\n",
            "\u001b[?25l  Downloading https://files.pythonhosted.org/packages/08/b0/8149a3c43418220386c0968713282fc0a3a4ef9fef991f7af2173b52505a/Flask-Markdown-0.3.tar.gz (165kB)\n",
            "\r\u001b[K     |██                              | 10kB 10.8MB/s eta 0:00:01\r\u001b[K     |████                            | 20kB 15.7MB/s eta 0:00:01\r\u001b[K     |██████                          | 30kB 12.5MB/s eta 0:00:01\r\u001b[K     |████████                        | 40kB 10.2MB/s eta 0:00:01\r\u001b[K     |█████████▉                      | 51kB 8.4MB/s eta 0:00:01\r\u001b[K     |███████████▉                    | 61kB 6.8MB/s eta 0:00:01\r\u001b[K     |█████████████▉                  | 71kB 7.2MB/s eta 0:00:01\r\u001b[K     |███████████████▉                | 81kB 7.9MB/s eta 0:00:01\r\u001b[K     |█████████████████▉              | 92kB 7.9MB/s eta 0:00:01\r\u001b[K     |███████████████████▊            | 102kB 8.1MB/s eta 0:00:01\r\u001b[K     |█████████████████████▊          | 112kB 8.1MB/s eta 0:00:01\r\u001b[K     |███████████████████████▊        | 122kB 8.1MB/s eta 0:00:01\r\u001b[K     |█████████████████████████▊      | 133kB 8.1MB/s eta 0:00:01\r\u001b[K     |███████████████████████████▊    | 143kB 8.1MB/s eta 0:00:01\r\u001b[K     |█████████████████████████████▋  | 153kB 8.1MB/s eta 0:00:01\r\u001b[K     |███████████████████████████████▋| 163kB 8.1MB/s eta 0:00:01\r\u001b[K     |████████████████████████████████| 174kB 8.1MB/s \n",
            "\u001b[?25hRequirement already satisfied: markdown in /usr/local/lib/python3.7/dist-packages (from Flask-Markdown) (3.3.4)\n",
            "Requirement already satisfied: importlib-metadata; python_version < \"3.8\" in /usr/local/lib/python3.7/dist-packages (from markdown->Flask-Markdown) (3.10.1)\n",
            "Requirement already satisfied: typing-extensions>=3.6.4; python_version < \"3.8\" in /usr/local/lib/python3.7/dist-packages (from importlib-metadata; python_version < \"3.8\"->markdown->Flask-Markdown) (3.7.4.3)\n",
            "Requirement already satisfied: zipp>=0.5 in /usr/local/lib/python3.7/dist-packages (from importlib-metadata; python_version < \"3.8\"->markdown->Flask-Markdown) (3.4.1)\n",
            "Building wheels for collected packages: Flask-Markdown\n",
            "  Building wheel for Flask-Markdown (setup.py) ... \u001b[?25l\u001b[?25hdone\n",
            "  Created wheel for Flask-Markdown: filename=Flask_Markdown-0.3-cp37-none-any.whl size=4552 sha256=c0804b72f951028a229e4c3ac8153fd667168014b5bc7d01180cb8fa037824da\n",
            "  Stored in directory: /root/.cache/pip/wheels/f5/2e/98/f87d64297cb0b2d1c5401510612b15861edfc3095c33143fe0\n",
            "Successfully built Flask-Markdown\n",
            "Installing collected packages: Flask-Markdown\n",
            "Successfully installed Flask-Markdown-0.3\n",
            "Collecting gevent\n",
            "\u001b[?25l  Downloading https://files.pythonhosted.org/packages/3e/85/df3d1fd2b60a87455475f93012861b76a411d27ba4a0859939adbe2c9dc3/gevent-21.1.2-cp37-cp37m-manylinux2010_x86_64.whl (5.6MB)\n",
            "\u001b[K     |████████████████████████████████| 5.6MB 8.1MB/s \n",
            "\u001b[?25hRequirement already satisfied: greenlet<2.0,>=0.4.17; platform_python_implementation == \"CPython\" in /usr/local/lib/python3.7/dist-packages (from gevent) (1.0.0)\n",
            "Requirement already satisfied: setuptools in /usr/local/lib/python3.7/dist-packages (from gevent) (56.0.0)\n",
            "Collecting zope.interface\n",
            "\u001b[?25l  Downloading https://files.pythonhosted.org/packages/bb/a7/94e1a92c71436f934cdd2102826fa041c83dcb7d21dd0f1fb1a57f6e0620/zope.interface-5.4.0-cp37-cp37m-manylinux2010_x86_64.whl (251kB)\n",
            "\u001b[K     |████████████████████████████████| 256kB 30.9MB/s \n",
            "\u001b[?25hCollecting zope.event\n",
            "  Downloading https://files.pythonhosted.org/packages/9e/85/b45408c64f3b888976f1d5b37eed8d746b8d5729a66a49ec846fda27d371/zope.event-4.5.0-py2.py3-none-any.whl\n",
            "Installing collected packages: zope.interface, zope.event, gevent\n",
            "Successfully installed gevent-21.1.2 zope.event-4.5.0 zope.interface-5.4.0\n"
          ],
          "name": "stdout"
        }
      ]
    },
    {
      "cell_type": "code",
      "metadata": {
        "colab": {
          "base_uri": "https://localhost:8080/"
        },
        "id": "DSfeX05KOSTS",
        "outputId": "eeff3532-deb8-43c4-ebc3-23ce3d9bae0f"
      },
      "source": [
        "from google.colab import drive\n",
        "drive.mount('drive')"
      ],
      "execution_count": 2,
      "outputs": [
        {
          "output_type": "stream",
          "text": [
            "Mounted at drive\n"
          ],
          "name": "stdout"
        }
      ]
    },
    {
      "cell_type": "code",
      "metadata": {
        "colab": {
          "base_uri": "https://localhost:8080/",
          "height": 34
        },
        "id": "OBeZ7UndDJjj",
        "outputId": "b72f4ee6-9ca7-4d2a-b9ab-277c19e58f3a"
      },
      "source": [
        "from google.colab.output import eval_js\n",
        "print(eval_js(\"google.colab.kernel.proxyPort(5000)\"))"
      ],
      "execution_count": 3,
      "outputs": [
        {
          "output_type": "stream",
          "text": [
            "https://8fwgpkutjhv-496ff2e9c6d22116-5000-colab.googleusercontent.com/\n"
          ],
          "name": "stdout"
        }
      ]
    },
    {
      "cell_type": "code",
      "metadata": {
        "id": "DchB8eo9DGXa"
      },
      "source": [
        "HTML_WRAPPER = \"\"\"<div style=\"overflow-x: auto; border: 1px solid #e6e9ef; border-radius: 0.25rem; padding: 1rem\">{}</div>\"\"\"\n"
      ],
      "execution_count": 4,
      "outputs": []
    },
    {
      "cell_type": "code",
      "metadata": {
        "colab": {
          "base_uri": "https://localhost:8080/",
          "height": 884
        },
        "id": "RuzwrxD3DOVb",
        "outputId": "651b6d5e-38a0-432f-a29c-4843adba58d0"
      },
      "source": [
        "from flask import Flask,url_for,render_template,request\n",
        "from flaskext.markdown import Markdown\n",
        "\n",
        "# NLP Pkgs\n",
        "import spacy\n",
        "from spacy import displacy\n",
        "nlp = spacy.load('en')\n",
        "import json\n",
        "\n",
        "# Init\n",
        "app = Flask(__name__, template_folder='/content/drive/MyDrive/templates')\n",
        "Markdown(app)\n",
        "\n",
        "\n",
        "@app.route('/')\n",
        "def index():\n",
        "\treturn render_template('index3.html')\n",
        "\n",
        "\n",
        "@app.route('/extract',methods=[\"GET\",\"POST\"])\n",
        "def extract():\n",
        "\tif request.method == 'POST':\n",
        "\t\traw_text = request.form['rawtext']\n",
        "\t\tdocx = nlp(raw_text)\n",
        "\t\thtml = displacy.render(docx,style=\"ent\")\n",
        "\t\thtml = html.replace(\"\\n\\n\",\"\\n\")\n",
        "\t\tresult = HTML_WRAPPER.format(html)\n",
        "\n",
        "\treturn render_template('result3.html',rawtext=raw_text,result=result)\n",
        "\n",
        "\n",
        "@app.route('/previewer')\n",
        "def previewer():\n",
        "\treturn render_template('previewer3.html')\n",
        "\n",
        "@app.route('/preview',methods=[\"GET\",\"POST\"])\n",
        "def preview():\n",
        "\tif request.method == 'POST':\n",
        "\t\tnewtext = request.form['newtext']\n",
        "\t\tresult = newtext\n",
        "\n",
        "\treturn render_template('preview3.html',newtext=newtext,result=result)\n",
        "\n",
        "@app.route('/about')\n",
        "def about():\n",
        "\treturn render_template('about.html')\n",
        "\n",
        "if __name__ == '__main__':\n",
        "    import portpicker\n",
        "    port = portpicker.pick_unused_port()\n",
        "    from google.colab import output\n",
        "    output.serve_kernel_port_as_window(port)\n",
        "    from gevent.pywsgi import WSGIServer\n",
        "    host='localhost'\n",
        "    app_server = WSGIServer((host, port), app)\n",
        "    app_server.serve_forever()\n"
      ],
      "execution_count": 5,
      "outputs": [
        {
          "output_type": "display_data",
          "data": {
            "application/javascript": [
              "(async (port, path, text, element) => {\n",
              "    if (!google.colab.kernel.accessAllowed) {\n",
              "      return;\n",
              "    }\n",
              "    element.appendChild(document.createTextNode(''));\n",
              "    const url = await google.colab.kernel.proxyPort(port);\n",
              "    const anchor = document.createElement('a');\n",
              "    anchor.href = url + path;\n",
              "    anchor.target = '_blank';\n",
              "    anchor.setAttribute('data-href', url + path);\n",
              "    anchor.textContent = text;\n",
              "    element.appendChild(anchor);\n",
              "  })(17547, \"/\", \"https://localhost:17547/\", window.element)"
            ],
            "text/plain": [
              "<IPython.core.display.Javascript object>"
            ]
          },
          "metadata": {
            "tags": []
          }
        },
        {
          "output_type": "stream",
          "text": [
            "\n",
            "PYDEV DEBUGGER WARNING:\n",
            "sys.settrace() should not be used when the debugger is being used.\n",
            "This may cause the debugger to stop working correctly.\n",
            "If this is needed, please check: \n",
            "http://pydev.blogspot.com/2007/06/why-cant-pydev-debugger-work-with.html\n",
            "to see how to restore the debug tracing back correctly.\n",
            "Call Location:\n",
            "  File \"/usr/local/lib/python3.7/dist-packages/gevent/threadpool.py\", line 157, in _before_run_task\n",
            "    _sys.settrace(_get_thread_trace())\n",
            "\n",
            "\n",
            "PYDEV DEBUGGER WARNING:\n",
            "sys.settrace() should not be used when the debugger is being used.\n",
            "This may cause the debugger to stop working correctly.\n",
            "If this is needed, please check: \n",
            "http://pydev.blogspot.com/2007/06/why-cant-pydev-debugger-work-with.html\n",
            "to see how to restore the debug tracing back correctly.\n",
            "Call Location:\n",
            "  File \"/usr/local/lib/python3.7/dist-packages/gevent/threadpool.py\", line 162, in _after_run_task\n",
            "    _sys.settrace(None)\n",
            "\n",
            "127.0.0.1 - - [2021-04-29 14:49:08] \"GET / HTTP/1.1\" 200 3441 0.427587\n",
            "127.0.0.1 - - [2021-04-29 14:49:17] \"GET /static/js/main.js HTTP/1.1\" 404 356 0.000893\n",
            "127.0.0.1 - - [2021-04-29 14:49:17] \"GET /main.css HTTP/1.1\" 404 356 0.000584\n",
            "127.0.0.1 - - [2021-04-29 14:49:18] \"GET /static/js/main.js HTTP/1.1\" 404 356 0.000799\n",
            "127.0.0.1 - - [2021-04-29 14:49:18] \"GET /favicon.ico HTTP/1.1\" 404 356 0.000950\n",
            "127.0.0.1 - - [2021-04-29 14:52:47] \"POST /extract HTTP/1.1\" 200 5124 0.511637\n",
            "127.0.0.1 - - [2021-04-29 14:52:48] \"GET /main.css HTTP/1.1\" 404 356 0.001073\n",
            "127.0.0.1 - - [2021-04-29 14:52:48] \"GET /static/js/main.js HTTP/1.1\" 404 356 0.001193\n",
            "127.0.0.1 - - [2021-04-29 14:52:49] \"GET /favicon.ico HTTP/1.1\" 404 356 0.000753\n",
            "KeyboardInterrupt\n",
            "2021-04-29T14:53:11Z\n"
          ],
          "name": "stderr"
        },
        {
          "output_type": "error",
          "ename": "KeyboardInterrupt",
          "evalue": "ignored",
          "traceback": [
            "\u001b[0;31m---------------------------------------------------------------------------\u001b[0m",
            "\u001b[0;31mKeyboardInterrupt\u001b[0m                         Traceback (most recent call last)",
            "\u001b[0;32m<ipython-input-5-c2673decac83>\u001b[0m in \u001b[0;36m<module>\u001b[0;34m()\u001b[0m\n\u001b[1;32m     54\u001b[0m     \u001b[0mhost\u001b[0m\u001b[0;34m=\u001b[0m\u001b[0;34m'localhost'\u001b[0m\u001b[0;34m\u001b[0m\u001b[0;34m\u001b[0m\u001b[0m\n\u001b[1;32m     55\u001b[0m     \u001b[0mapp_server\u001b[0m \u001b[0;34m=\u001b[0m \u001b[0mWSGIServer\u001b[0m\u001b[0;34m(\u001b[0m\u001b[0;34m(\u001b[0m\u001b[0mhost\u001b[0m\u001b[0;34m,\u001b[0m \u001b[0mport\u001b[0m\u001b[0;34m)\u001b[0m\u001b[0;34m,\u001b[0m \u001b[0mapp\u001b[0m\u001b[0;34m)\u001b[0m\u001b[0;34m\u001b[0m\u001b[0;34m\u001b[0m\u001b[0m\n\u001b[0;32m---> 56\u001b[0;31m     \u001b[0mapp_server\u001b[0m\u001b[0;34m.\u001b[0m\u001b[0mserve_forever\u001b[0m\u001b[0;34m(\u001b[0m\u001b[0;34m)\u001b[0m\u001b[0;34m\u001b[0m\u001b[0;34m\u001b[0m\u001b[0m\n\u001b[0m",
            "\u001b[0;32m/usr/local/lib/python3.7/dist-packages/gevent/baseserver.py\u001b[0m in \u001b[0;36mserve_forever\u001b[0;34m(self, stop_timeout)\u001b[0m\n\u001b[1;32m    398\u001b[0m             \u001b[0mself\u001b[0m\u001b[0;34m.\u001b[0m\u001b[0mstart\u001b[0m\u001b[0;34m(\u001b[0m\u001b[0;34m)\u001b[0m\u001b[0;34m\u001b[0m\u001b[0;34m\u001b[0m\u001b[0m\n\u001b[1;32m    399\u001b[0m         \u001b[0;32mtry\u001b[0m\u001b[0;34m:\u001b[0m\u001b[0;34m\u001b[0m\u001b[0;34m\u001b[0m\u001b[0m\n\u001b[0;32m--> 400\u001b[0;31m             \u001b[0mself\u001b[0m\u001b[0;34m.\u001b[0m\u001b[0m_stop_event\u001b[0m\u001b[0;34m.\u001b[0m\u001b[0mwait\u001b[0m\u001b[0;34m(\u001b[0m\u001b[0;34m)\u001b[0m\u001b[0;34m\u001b[0m\u001b[0;34m\u001b[0m\u001b[0m\n\u001b[0m\u001b[1;32m    401\u001b[0m         \u001b[0;32mfinally\u001b[0m\u001b[0;34m:\u001b[0m\u001b[0;34m\u001b[0m\u001b[0;34m\u001b[0m\u001b[0m\n\u001b[1;32m    402\u001b[0m             \u001b[0mGreenlet\u001b[0m\u001b[0;34m.\u001b[0m\u001b[0mspawn\u001b[0m\u001b[0;34m(\u001b[0m\u001b[0mself\u001b[0m\u001b[0;34m.\u001b[0m\u001b[0mstop\u001b[0m\u001b[0;34m,\u001b[0m \u001b[0mtimeout\u001b[0m\u001b[0;34m=\u001b[0m\u001b[0mstop_timeout\u001b[0m\u001b[0;34m)\u001b[0m\u001b[0;34m.\u001b[0m\u001b[0mjoin\u001b[0m\u001b[0;34m(\u001b[0m\u001b[0;34m)\u001b[0m\u001b[0;34m\u001b[0m\u001b[0;34m\u001b[0m\u001b[0m\n",
            "\u001b[0;32m/usr/local/lib/python3.7/dist-packages/gevent/_gevent_cevent.cpython-37m-x86_64-linux-gnu.so\u001b[0m in \u001b[0;36mgevent._gevent_cevent.Event.wait\u001b[0;34m()\u001b[0m\n",
            "\u001b[0;32m/usr/local/lib/python3.7/dist-packages/gevent/_gevent_c_abstract_linkable.cpython-37m-x86_64-linux-gnu.so\u001b[0m in \u001b[0;36mgevent._gevent_c_abstract_linkable.AbstractLinkable._wait\u001b[0;34m()\u001b[0m\n",
            "\u001b[0;32m/usr/local/lib/python3.7/dist-packages/gevent/_gevent_c_abstract_linkable.cpython-37m-x86_64-linux-gnu.so\u001b[0m in \u001b[0;36mgevent._gevent_c_abstract_linkable.AbstractLinkable._wait_core\u001b[0;34m()\u001b[0m\n",
            "\u001b[0;32m/usr/local/lib/python3.7/dist-packages/gevent/_gevent_c_abstract_linkable.cpython-37m-x86_64-linux-gnu.so\u001b[0m in \u001b[0;36mgevent._gevent_c_abstract_linkable.AbstractLinkable._wait_core\u001b[0;34m()\u001b[0m\n",
            "\u001b[0;32m/usr/local/lib/python3.7/dist-packages/gevent/_gevent_c_abstract_linkable.cpython-37m-x86_64-linux-gnu.so\u001b[0m in \u001b[0;36mgevent._gevent_c_abstract_linkable.AbstractLinkable._AbstractLinkable__wait_to_be_notified\u001b[0;34m()\u001b[0m\n",
            "\u001b[0;32m/usr/local/lib/python3.7/dist-packages/gevent/_gevent_c_abstract_linkable.cpython-37m-x86_64-linux-gnu.so\u001b[0m in \u001b[0;36mgevent._gevent_c_abstract_linkable.AbstractLinkable._switch_to_hub\u001b[0;34m()\u001b[0m\n",
            "\u001b[0;32m/usr/local/lib/python3.7/dist-packages/gevent/_gevent_c_greenlet_primitives.cpython-37m-x86_64-linux-gnu.so\u001b[0m in \u001b[0;36mgevent._gevent_c_greenlet_primitives.SwitchOutGreenletWithLoop.switch\u001b[0;34m()\u001b[0m\n",
            "\u001b[0;32m/usr/local/lib/python3.7/dist-packages/gevent/_gevent_c_greenlet_primitives.cpython-37m-x86_64-linux-gnu.so\u001b[0m in \u001b[0;36mgevent._gevent_c_greenlet_primitives.SwitchOutGreenletWithLoop.switch\u001b[0;34m()\u001b[0m\n",
            "\u001b[0;32msrc/gevent/_gevent_c_greenlet_primitives.pxd\u001b[0m in \u001b[0;36mgevent._gevent_c_greenlet_primitives._greenlet_switch\u001b[0;34m()\u001b[0m\n",
            "\u001b[0;31mKeyboardInterrupt\u001b[0m: "
          ]
        }
      ]
    }
  ]
}